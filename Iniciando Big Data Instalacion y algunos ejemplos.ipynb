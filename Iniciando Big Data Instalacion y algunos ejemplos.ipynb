{
 "cells": [
  {
   "cell_type": "markdown",
   "metadata": {},
   "source": [
    "# Requerimientos para seguir la serie\n",
    "\n",
    "Numpy:\n",
    "\n",
    "· Sitio Web: http://www.numpy.org/\n",
    "\n",
    "· Version usada: 1.14.0\n",
    "\n",
    "· Comando: pip install numpy\n",
    "\n",
    "SciPy:\n",
    "\n",
    "· Sitio Web: https://www.scipy.org/\n",
    "\n",
    "· Version usada: 1.0.0\n",
    "\n",
    "· Comando: pip install scipy\n",
    "\n",
    "pandas:\n",
    "\n",
    "· Sitio web: https://pandas.pydata.org/\n",
    "\n",
    "· Version usada: 0.22.0\n",
    "\n",
    "· Comando: pip install pandas\n",
    "\n",
    "Scikit-learn:\n",
    "\n",
    "· Sitio Web: http://scikit-learn.org/stable/\n",
    "\n",
    "· Version usada: 0.19.1\n",
    "\n",
    "· Comando: pip install scikit-learn\n",
    "\n",
    "Jupyter:\n",
    "\n",
    "· Sitio Web: http://jupyter.org/ \n",
    "\n",
    "· Version usada: 1.0.0 (ipykernel=4.3.1)\n",
    "\n",
    "· Comando: pip install jupyter\n",
    "\n",
    "Matplotlib:\n",
    "\n",
    "· Sitio Web: http://matplotlib.org/\n",
    "\n",
    "· Version usada: 2.1.1\n",
    "\n",
    "· Comando: pip install matplotlib\n",
    "\n",
    "Statsmodels:\n",
    "\n",
    "· Sitio Web: http://www.statsmodels.org/stable/index.html\n",
    "\n",
    "· Version usada: 0.8.0\n",
    "\n",
    "· Comando: pip install stasmodels\n",
    "\n",
    "Beatiful Soup:\n",
    "\n",
    "· Sitio Web: www.crummy.com/software/BeautifulSoup\n",
    "\n",
    "· Version usada: 4.6.0\n",
    "\n",
    "· Comando: pip install beautifulsoup4\n",
    "\n",
    "NetworkX:\n",
    "\n",
    "· Sitio Web: http://networkx.github.io/\n",
    "\n",
    "· Version Usada: 2.1\n",
    "\n",
    "· Comando: pip install networkx\n",
    "\n",
    "NLTK:\n",
    "\n",
    "· Sitio Web: http://www.nltk.org/\n",
    "\n",
    "· Version Usada: 3.2.5\n",
    "\n",
    "· Comando: pip install nltk\n",
    "\n",
    "Gensim:\n",
    "\n",
    "· Sitio Web: http://radimrehurek.com/gensim/\n",
    "\n",
    "· Version utilizada: 3.2.0\n",
    "\n",
    "· Comando: pip install gensim\n",
    "\n",
    "Theano:\n",
    "\n",
    "· Sitio Web: http://deeplearning.net/software/theano/\n",
    "\n",
    "· Version utilizada: 1.0.1\n",
    "\n",
    "· Comando: pip install Theano\n",
    "\n",
    "Keras:\n",
    "\n",
    "· Sitio Web: https://keras.io/\n",
    "\n",
    "· Version utilizada: 2.1.2\n",
    "\n",
    "· Comando: pip install keras"
   ]
  },
  {
   "cell_type": "code",
   "execution_count": 1,
   "metadata": {},
   "outputs": [
    {
     "data": {
      "text/latex": [
       "Formula del promedio:\n",
       "\\begin{equation}\n",
       "\\bar{x} = \\frac{\\sum{x}}{n}\n",
       "\\end{equation}"
      ],
      "text/plain": [
       "<IPython.core.display.Latex object>"
      ]
     },
     "metadata": {},
     "output_type": "display_data"
    }
   ],
   "source": [
    "%%latex\n",
    "Formula del promedio:\n",
    "\\begin{equation}\n",
    "\\bar{x} = \\frac{\\sum{x}}{n}\n",
    "\\end{equation}\n"
   ]
  },
  {
   "cell_type": "code",
   "execution_count": 2,
   "metadata": {},
   "outputs": [
    {
     "data": {
      "text/latex": [
       "Fomula del preceptron = \n",
       "\\[\n",
       "    f(x) = \n",
       "    \\begin{cases}\n",
       "    1\\; \\text{Si } w \\cdot x - u > 0 \\\\\n",
       "    0\\; \\text{De otro modo}\n",
       "    \\end{cases}\n",
       "    \n",
       "\\]"
      ],
      "text/plain": [
       "<IPython.core.display.Latex object>"
      ]
     },
     "metadata": {},
     "output_type": "display_data"
    }
   ],
   "source": [
    "%%latex\n",
    "Fomula del preceptron = \n",
    "\\[\n",
    "    f(x) = \n",
    "    \\begin{cases}\n",
    "    1\\; \\text{Si } w \\cdot x - u > 0 \\\\\n",
    "    0\\; \\text{De otro modo}\n",
    "    \\end{cases}\n",
    "    \n",
    "\\]\n"
   ]
  },
  {
   "cell_type": "markdown",
   "metadata": {},
   "source": [
    "# Vamos al Data Cience"
   ]
  },
  {
   "cell_type": "code",
   "execution_count": 3,
   "metadata": {
    "collapsed": true
   },
   "outputs": [],
   "source": [
    "#Este es para que los graficos se pongan en el notebook\n",
    "%matplotlib inline \n",
    "import matplotlib.pyplot as plt\n",
    "from sklearn import datasets\n",
    "from sklearn.feature_selection import SelectKBest, f_regression\n",
    "from sklearn.linear_model import LinearRegression\n",
    "from sklearn.svm import SVR\n",
    "from sklearn.ensemble import RandomForestRegressor"
   ]
  },
  {
   "cell_type": "code",
   "execution_count": 4,
   "metadata": {},
   "outputs": [
    {
     "name": "stdout",
     "output_type": "stream",
     "text": [
      "(506, 13)\n",
      "(506,)\n"
     ]
    }
   ],
   "source": [
    "#Vamos a cargar el dataset boston\n",
    "boston_dataset = datasets.load_boston()\n",
    "X_full = boston_dataset.data\n",
    "Y = boston_dataset.target\n",
    "print(X_full.shape)\n",
    "print(Y.shape)"
   ]
  },
  {
   "cell_type": "markdown",
   "metadata": {},
   "source": [
    "El shape nos indica la forma del dataset. Es bastante importante ya que esto mandara el como manipulamos, los datos esto nos indica que tiene 506 registros de casas y ademas de eso 13 columnas y cada de esa columna tiene un feature. Los features  son los discriminantes para el resultado, para ver la descripcion vamos a hacer lo siguiente"
   ]
  },
  {
   "cell_type": "code",
   "execution_count": 5,
   "metadata": {},
   "outputs": [
    {
     "name": "stdout",
     "output_type": "stream",
     "text": [
      "Boston House Prices dataset\n",
      "===========================\n",
      "\n",
      "Notes\n",
      "------\n",
      "Data Set Characteristics:  \n",
      "\n",
      "    :Number of Instances: 506 \n",
      "\n",
      "    :Number of Attributes: 13 numeric/categorical predictive\n",
      "    \n",
      "    :Median Value (attribute 14) is usually the target\n",
      "\n",
      "    :Attribute Information (in order):\n",
      "        - CRIM     per capita crime rate by town\n",
      "        - ZN       proportion of residential land zoned for lots over 25,000 sq.ft.\n",
      "        - INDUS    proportion of non-retail business acres per town\n",
      "        - CHAS     Charles River dummy variable (= 1 if tract bounds river; 0 otherwise)\n",
      "        - NOX      nitric oxides concentration (parts per 10 million)\n",
      "        - RM       average number of rooms per dwelling\n",
      "        - AGE      proportion of owner-occupied units built prior to 1940\n",
      "        - DIS      weighted distances to five Boston employment centres\n",
      "        - RAD      index of accessibility to radial highways\n",
      "        - TAX      full-value property-tax rate per $10,000\n",
      "        - PTRATIO  pupil-teacher ratio by town\n",
      "        - B        1000(Bk - 0.63)^2 where Bk is the proportion of blacks by town\n",
      "        - LSTAT    % lower status of the population\n",
      "        - MEDV     Median value of owner-occupied homes in $1000's\n",
      "\n",
      "    :Missing Attribute Values: None\n",
      "\n",
      "    :Creator: Harrison, D. and Rubinfeld, D.L.\n",
      "\n",
      "This is a copy of UCI ML housing dataset.\n",
      "http://archive.ics.uci.edu/ml/datasets/Housing\n",
      "\n",
      "\n",
      "This dataset was taken from the StatLib library which is maintained at Carnegie Mellon University.\n",
      "\n",
      "The Boston house-price data of Harrison, D. and Rubinfeld, D.L. 'Hedonic\n",
      "prices and the demand for clean air', J. Environ. Economics & Management,\n",
      "vol.5, 81-102, 1978.   Used in Belsley, Kuh & Welsch, 'Regression diagnostics\n",
      "...', Wiley, 1980.   N.B. Various transformations are used in the table on\n",
      "pages 244-261 of the latter.\n",
      "\n",
      "The Boston house-price data has been used in many machine learning papers that address regression\n",
      "problems.   \n",
      "     \n",
      "**References**\n",
      "\n",
      "   - Belsley, Kuh & Welsch, 'Regression diagnostics: Identifying Influential Data and Sources of Collinearity', Wiley, 1980. 244-261.\n",
      "   - Quinlan,R. (1993). Combining Instance-Based and Model-Based Learning. In Proceedings on the Tenth International Conference of Machine Learning, 236-243, University of Massachusetts, Amherst. Morgan Kaufmann.\n",
      "   - many more! (see http://archive.ics.uci.edu/ml/datasets/Housing)\n",
      "\n"
     ]
    }
   ],
   "source": [
    "print(boston_dataset.DESCR)"
   ]
  },
  {
   "cell_type": "code",
   "execution_count": 6,
   "metadata": {},
   "outputs": [
    {
     "name": "stdout",
     "output_type": "stream",
     "text": [
      "(506, 1)\n"
     ]
    }
   ],
   "source": [
    "#Vamos a hacer un selector \n",
    "\n",
    "selector = SelectKBest(f_regression, k=1)\n",
    "selector.fit(X_full,Y)\n",
    "X = X_full[:, selector.get_support()]\n",
    "print(X.shape)\n",
    "\n",
    "#Si esto no queda del todo claro no se preocupen luego lo veremos en profundidad en estos tutoriales"
   ]
  },
  {
   "cell_type": "markdown",
   "metadata": {},
   "source": [
    "Aqui hemos seleccionado la feature mas descriptiva del dataset, lo que hicimos fue entrenar un regresor lineal y reducimos el dataset a un vector, gracias al selector y luego la leimos con get_support()\n",
    "\n",
    "asi podemos ver una coorelacion entre el feature y el precio de la casa ahora haremos una funcion para graficar"
   ]
  },
  {
   "cell_type": "code",
   "execution_count": 7,
   "metadata": {
    "collapsed": true
   },
   "outputs": [],
   "source": [
    "def plotScatter(X,Y,R=None):\n",
    "    plt.scatter(X,Y, marker='o')\n",
    "    if R is not None:\n",
    "        plt.scatter(X,R,color='red',linewidth=.5)\n",
    "    plt.show()"
   ]
  },
  {
   "cell_type": "code",
   "execution_count": 8,
   "metadata": {},
   "outputs": [
    {
     "data": {
      "image/png": "[encoded data removed]",
      "text/plain": [
       "<matplotlib.figure.Figure at 0x1a0fc1c5d0>"
      ]
     },
     "metadata": {},
     "output_type": "display_data"
    }
   ],
   "source": [
    "plotScatter(X,Y)"
   ]
  },
  {
   "cell_type": "markdown",
   "metadata": {},
   "source": [
    "Aqui podemos ver que mientas la X crece la Y baja es decir que podemos ver una correlacion entre X e Y muy clara y ahora con un modelo de regresion lineal podremos ver mucho mas claramente esta coorelacion entre X e Y"
   ]
  },
  {
   "cell_type": "code",
   "execution_count": 9,
   "metadata": {},
   "outputs": [
    {
     "data": {
      "image/png": "[encoded data removed]",
      "text/plain": [
       "<matplotlib.figure.Figure at 0x1a180f2cd0>"
      ]
     },
     "metadata": {},
     "output_type": "display_data"
    }
   ],
   "source": [
    "regresor = LinearRegression(normalize=True).fit(X,Y)\n",
    "plotScatter(X,Y,R=regresor.predict(X))"
   ]
  },
  {
   "cell_type": "code",
   "execution_count": 10,
   "metadata": {},
   "outputs": [
    {
     "data": {
      "text/latex": [
       "\\begin{equation}\n",
       "    \\text{Regresion Lineal ordenada de origen:}\\\\ \n",
       "     A = \\bar{Y} - B\\bar{X}\\\\\n",
       "    \\text{Pendiente:}\\\\\n",
       "    B = \\frac{\\sum{XY} - n\\bar{X}\\bar{Y}}{\\sum{X^2} - n\\bar{X^2} }\n",
       "\\end{equation}"
      ],
      "text/plain": [
       "<IPython.core.display.Latex object>"
      ]
     },
     "metadata": {},
     "output_type": "display_data"
    }
   ],
   "source": [
    "%%latex\n",
    "\\begin{equation}\n",
    "    \\text{Regresion Lineal ordenada de origen:}\\\\ \n",
    "     A = \\bar{Y} - B\\bar{X}\\\\\n",
    "    \\text{Pendiente:}\\\\\n",
    "    B = \\frac{\\sum{XY} - n\\bar{X}\\bar{Y}}{\\sum{X^2} - n\\bar{X^2} }\n",
    "\\end{equation}"
   ]
  },
  {
   "cell_type": "markdown",
   "metadata": {},
   "source": [
    "Aqui podemos ver que se pueden separar los puntos en dos secciones y esto nos indica que se puede establecer un modelo de coorelacion de pearson para la prediccion de resultados ahora usaremos un modelo no linear llamado Suport Vector Machine (SVM) es un modelo no linear que se implementa para la resolucion automatica de problemas como la Random Forests para resolver este tipo de problemas"
   ]
  },
  {
   "cell_type": "code",
   "execution_count": 11,
   "metadata": {},
   "outputs": [
    {
     "data": {
      "image/png": "[encoded data removed]",
      "text/plain": [
       "<matplotlib.figure.Figure at 0x1a18328650>"
      ]
     },
     "metadata": {},
     "output_type": "display_data"
    }
   ],
   "source": [
    "regresor = SVR().fit(X,Y)\n",
    "plotScatter(X,Y,R=regresor.predict(X))"
   ]
  },
  {
   "cell_type": "code",
   "execution_count": 12,
   "metadata": {},
   "outputs": [
    {
     "data": {
      "text/latex": [
       "\n",
       "\\begin{equation}\n",
       "    \\text{Computacion del clasificaror SVR:}\\\\\n",
       "    \\left [ \\sum_{i=1}^{n} max\\left ( 0,1 -y_i \\left ( \\overrightarrow{w} \\cdot \\overrightarrow{x_i} - b\\right ) \\right ) \\right ] + \\lambda \\left \\| \\overrightarrow{w} \\right \\|^2\n",
       "    \n",
       "\\end{equation}"
      ],
      "text/plain": [
       "<IPython.core.display.Latex object>"
      ]
     },
     "metadata": {},
     "output_type": "display_data"
    }
   ],
   "source": [
    "%%latex\n",
    "\n",
    "\\begin{equation}\n",
    "    \\text{Computacion del clasificaror SVR:}\\\\\n",
    "    \\left [ \\sum_{i=1}^{n} max\\left ( 0,1 -y_i \\left ( \\overrightarrow{w} \\cdot \\overrightarrow{x_i} - b\\right ) \\right ) \\right ] + \\lambda \\left \\| \\overrightarrow{w} \\right \\|^2\n",
    "    \n",
    "\\end{equation}"
   ]
  },
  {
   "cell_type": "code",
   "execution_count": 13,
   "metadata": {},
   "outputs": [
    {
     "data": {
      "image/png": "[encoded data removed]",
      "text/plain": [
       "<matplotlib.figure.Figure at 0x1a181e1550>"
      ]
     },
     "metadata": {},
     "output_type": "display_data"
    }
   ],
   "source": [
    "regresor = RandomForestRegressor().fit(X,Y)\n",
    "plotScatter(X,Y,R=regresor.predict(X))"
   ]
  },
  {
   "cell_type": "markdown",
   "metadata": {},
   "source": [
    "# Fin de la primera clase \n",
    "\n",
    "La formula del Forest Regressor no la pude encontrar, disculpas :("
   ]
  }
 ],
 "metadata": {
  "kernelspec": {
   "display_name": "Python 2",
   "language": "python",
   "name": "python2"
  },
  "language_info": {
   "codemirror_mode": {
    "name": "ipython",
    "version": 2
   },
   "file_extension": ".py",
   "mimetype": "text/x-python",
   "name": "python",
   "nbconvert_exporter": "python",
   "pygments_lexer": "ipython2",
   "version": "2.7.13"
  }
 },
 "nbformat": 4,
 "nbformat_minor": 2
}
